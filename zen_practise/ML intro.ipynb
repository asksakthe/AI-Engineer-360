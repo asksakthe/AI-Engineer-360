{
 "cells": [
  {
   "cell_type": "markdown",
   "id": "39bb2b12",
   "metadata": {},
   "source": [
    "![](https://images.idgesg.net/images/article/2019/02/ai-slide-07-100788651-orig.jpg)"
   ]
  },
  {
   "cell_type": "markdown",
   "id": "b185d7c5",
   "metadata": {},
   "source": [
    "## What is machine learning?\n",
    "- Machine learning is the process whereby:\n",
    "    \n",
    "    Computers are given the ability to learn to make decisions from data\n",
    "    \n",
    "    without being explicitly programmed!"
   ]
  },
  {
   "cell_type": "markdown",
   "id": "84594230",
   "metadata": {},
   "source": [
    "![](https://miro.medium.com/v2/resize:fit:1100/format:webp/1*E8TLv4jgOzG19i-5S4rMKw.png)"
   ]
  },
  {
   "cell_type": "markdown",
   "id": "c14cfc2d",
   "metadata": {},
   "source": [
    "![](https://miro.medium.com/v2/resize:fit:640/format:webp/1*ReaNclUjeVbSRZhHVTCzFw.png)"
   ]
  },
  {
   "cell_type": "markdown",
   "id": "1de38d95",
   "metadata": {},
   "source": [
    "### There are multiple forms of Machine Learning; \n",
    "- supervised, \n",
    "- unsupervised , \n",
    "- semi-supervised and\n",
    "- reinforcement learning.\n",
    "\n",
    "Each form of Machine Learning has differing approaches, but they all follow the same underlying process and theory. "
   ]
  },
  {
   "cell_type": "code",
   "execution_count": null,
   "id": "73d31c9b",
   "metadata": {},
   "outputs": [],
   "source": [
    "age = 19\n",
    "if age >= 18:\n",
    "    print(\"Adult\")"
   ]
  },
  {
   "cell_type": "markdown",
   "id": "a6f15876",
   "metadata": {},
   "source": [
    "![](https://www.tutorialspoint.com/machine_learning/images/categories_machine_learning.jpg)"
   ]
  },
  {
   "cell_type": "markdown",
   "id": "bc5a1c05",
   "metadata": {},
   "source": [
    "![](https://miro.medium.com/max/802/1*YmX4IlkuHQkX79QyWqusuQ.jpeg)"
   ]
  },
  {
   "cell_type": "markdown",
   "id": "3014dae3",
   "metadata": {},
   "source": [
    "### Features of Machine Learning:\n",
    "- Machine learning uses data to detect various patterns in a given dataset.\n",
    "- It can learn from past data and improve automatically.\n",
    "- It is a data-driven technology.\n",
    "- Machine learning is much similar to data mining as it also deals with the huge amount of the data."
   ]
  },
  {
   "cell_type": "markdown",
   "id": "bb779648",
   "metadata": {},
   "source": [
    "### Supervised learning \n",
    "- In which machines are trained using well **\"labelled\" training data,** and on basis of that data, machines predict the output.\n",
    "- The labelled data means some input data is already tagged with the correct output."
   ]
  },
  {
   "cell_type": "markdown",
   "id": "e7706c19",
   "metadata": {},
   "source": [
    "![](https://th.bing.com/th/id/OIP.4PbB0fqxZDYfQehB95smIgAAAA?rs=1&pid=ImgDetMain)\n",
    "![](https://static.javatpoint.com/tutorial/machine-learning/images/supervised-machine-learning-1.png)"
   ]
  },
  {
   "cell_type": "markdown",
   "id": "d557df83",
   "metadata": {},
   "source": [
    "In the real-world, \n",
    "- supervised learning can be used for Risk Assessment, Image classification, Fraud Detection, spam filtering, etc."
   ]
  },
  {
   "cell_type": "markdown",
   "id": "7a6d13c2",
   "metadata": {},
   "source": [
    "![](https://static.javatpoint.com/tutorial/machine-learning/images/supervised-machine-learning.png)"
   ]
  },
  {
   "cell_type": "markdown",
   "id": "09754490",
   "metadata": {},
   "source": [
    "### Regression algorithms \n",
    "-  relationship between the input variable and the output variable.\n",
    "- It is used for the prediction of continuous variables, such as Weather forecasting, Market Trends, etc. \n",
    "Regression algorithms which come under supervised learning:\n",
    "    - Linear Regression\n",
    "    - Logistic Regression\n",
    "    - Polynomial Regression\n",
    "    - Support Vector Regression\n",
    "    - Decision Tree Regression\n",
    "    - Random Forest Regression\n",
    "    - Ridge Regression\n",
    "    - Lasso Regression"
   ]
  },
  {
   "cell_type": "markdown",
   "id": "19f54145",
   "metadata": {},
   "source": [
    "![](https://static.javatpoint.com/tutorial/machine-learning/images/regression-analysis-in-machine-learning.png))"
   ]
  },
  {
   "cell_type": "code",
   "execution_count": null,
   "id": "e4cd6787",
   "metadata": {},
   "outputs": [],
   "source": [
    "# !pip install matplotlib"
   ]
  },
  {
   "cell_type": "code",
   "execution_count": 39,
   "id": "2c6a680e",
   "metadata": {},
   "outputs": [
    {
     "data": {
      "image/png": "[encoded data removed]",
      "text/plain": [
       "<Figure size 640x480 with 1 Axes>"
      ]
     },
     "metadata": {},
     "output_type": "display_data"
    }
   ],
   "source": [
    "import pandas as pd\n",
    "import numpy as np\n",
    "import matplotlib.pyplot as plt\n",
    "X = np.array([90,120,150,100,130,200])   #input features\n",
    "y = ([1000,1300,1800,1200,1380,1600])  # target variable\n",
    "\n",
    "plt.scatter(X,y)\n",
    "plt.plot(X,y_pred)\n",
    "plt.xlabel(\"Features\")\n",
    "plt.ylabel(\"Target\")\n",
    "plt.title(\"Sales Analysis\");"
   ]
  },
  {
   "cell_type": "code",
   "execution_count": null,
   "id": "86c512b4",
   "metadata": {},
   "outputs": [],
   "source": [
    "import pandas as pd\n",
    "import matplotlib.pyplot as plt\n",
    "X = [90,120,150,100,130,200]\n",
    "y = [\"Good\",\"Bad\",\"Good\",\"Bad\",\"Bad\",\"Bad\"]\n",
    "plt.scatter(X,y)\n",
    "plt.xlabel(\"Features\")\n",
    "plt.ylabel(\"Target\")\n",
    "plt.title(\"Sales Analysis\");"
   ]
  },
  {
   "cell_type": "code",
   "execution_count": null,
   "id": "808e0aec",
   "metadata": {},
   "outputs": [],
   "source": [
    "regression ---> continous data \n",
    "\n",
    "classification ---> discrete data"
   ]
  },
  {
   "cell_type": "code",
   "execution_count": null,
   "id": "dadbb500",
   "metadata": {},
   "outputs": [],
   "source": [
    "ADVERTISEMENT --> FEATURES  (INDEPENDENT)\n",
    "SALES  -->  TARGET  (DEPENDENT)  "
   ]
  },
  {
   "cell_type": "markdown",
   "id": "91c40ee6",
   "metadata": {},
   "source": [
    "### Classification:\n",
    "\n",
    "- Classification algorithms are used when the output variable is categorical, which means there are two classes such as Yes-No, Male-Female, True-false, etc.\n",
    "\n",
    "Spam Filtering:\n",
    "\n",
    "   - Random Forest\n",
    "   - Decision Trees\n",
    "   - Logistic Regression\n",
    "   - Support vector Machines"
   ]
  },
  {
   "cell_type": "markdown",
   "id": "59f18063",
   "metadata": {},
   "source": [
    "![](https://th.bing.com/th/id/OIP.vKLMyX17iNx9O4T0DSzrvAAAAA?rs=1&pid=ImgDetMain)"
   ]
  },
  {
   "cell_type": "markdown",
   "id": "52f97810",
   "metadata": {
    "scrolled": false
   },
   "source": [
    "![](https://miro.medium.com/v2/resize:fit:828/format:webp/1*jJ2nzjKUS3fQCfrrTgF4Yg.png)"
   ]
  },
  {
   "cell_type": "markdown",
   "id": "029d4541",
   "metadata": {},
   "source": [
    "# ML TYPES\n",
    "\n",
    "* SUPERVISED   -> REGRESSION , CLASSIFICATION \n",
    "* UNSUPERVISED  \n",
    "\n",
    "\n",
    "<img src=https://www.springboard.com/blog/wp-content/uploads/2021/10/regression-vs.-classification.png width=300>"
   ]
  },
  {
   "cell_type": "markdown",
   "id": "53ff1052",
   "metadata": {},
   "source": [
    "![](https://learn.g2.com/hs-fs/hubfs/unsupervised-learning.png?width=2100&name=unsupervised-learning.png)"
   ]
  },
  {
   "cell_type": "markdown",
   "id": "82c4078e",
   "metadata": {},
   "source": [
    "![](https://i.pinimg.com/736x/10/8e/0d/108e0d889763b88836e51b9cee1d23a0.jpg)"
   ]
  },
  {
   "cell_type": "markdown",
   "id": "2cc0f47d",
   "metadata": {},
   "source": [
    "## LINEAR REGRESSION \n",
    "\n",
    "#### Linear regression is a type of statistical analysis used to predict the relationship between two variables. It assumes a linear relationship between the independent variable and the dependent variable, and aims to find the best-fitting line that describes the relationship. \n",
    "\n",
    "##### LINEAR REGRESSION FORMULA :   $ \\hat{y} = m*x + c$\n",
    "\n",
    "\n",
    "\n",
    "<IMG SRC= data:image/png;base64,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 WIDTH=800>\n"
   ]
  },
  {
   "cell_type": "code",
   "execution_count": 36,
   "id": "4a3c3063",
   "metadata": {},
   "outputs": [
    {
     "data": {
      "text/plain": [
       "80"
      ]
     },
     "execution_count": 36,
     "metadata": {},
     "output_type": "execute_result"
    }
   ],
   "source": [
    "import numpy as np\n",
    "X = np.array([90,120,150,100,130,200])  # input features\n",
    "y = np.array([1000,1300,1800,1200,1380,1600])  # target\n",
    "# y = mx + b\n",
    "m = 12\n",
    "# y[0] = mx[0] + b\n",
    "b = (m*X[0]) - y[0]\n",
    "b\n"
   ]
  },
  {
   "cell_type": "code",
   "execution_count": 37,
   "id": "6ef5e9a2",
   "metadata": {},
   "outputs": [
    {
     "data": {
      "text/plain": [
       "array([1160, 1520, 1880, 1280, 1640, 2480])"
      ]
     },
     "execution_count": 37,
     "metadata": {},
     "output_type": "execute_result"
    }
   ],
   "source": [
    "y_pred = (m * X) + b\n",
    "y_pred"
   ]
  },
  {
   "cell_type": "markdown",
   "id": "7a1f9c4a",
   "metadata": {},
   "source": [
    "### What is a best fit line?\n",
    "- The best fit line is the one which passes through maxmimum points in the data(in ideal cases passes through all the points in the data)\n",
    "- Error minimum - **that is the best fit line** \n",
    "- The best-fit line or hyperplane is determined by minimizing the sum of squared differences between the predicted values and the actual values of the dependent variable."
   ]
  },
  {
   "cell_type": "code",
   "execution_count": null,
   "id": "5512c303",
   "metadata": {},
   "outputs": [],
   "source": [
    "import numpy as np\n",
    "import pandas as pd"
   ]
  },
  {
   "cell_type": "code",
   "execution_count": null,
   "id": "5e311b83",
   "metadata": {},
   "outputs": [],
   "source": [
    "x = np.array([1,2,3,4,5]) # exp  -- independent variable\n",
    "y = np.array([10,11,12,13,14])  # salary  -- target variable\n",
    "\n",
    "m = 3\n",
    "#y = x * 3 + b\n",
    "b = y[0] - (x[0] *3)\n",
    "b"
   ]
  },
  {
   "cell_type": "code",
   "execution_count": null,
   "id": "01340cf4",
   "metadata": {},
   "outputs": [],
   "source": [
    "#y = np.array([10,11,12,13,14])\n",
    "y_pred = m * x + b\n",
    "y_pred"
   ]
  },
  {
   "cell_type": "markdown",
   "id": "3092d4e1",
   "metadata": {},
   "source": [
    "![](https://th.bing.com/th/id/OIP.Rw4597np30_cadlmb6QE6gHaEn?rs=1&pid=ImgDetMain)"
   ]
  },
  {
   "cell_type": "markdown",
   "id": "d17ec8c4",
   "metadata": {},
   "source": [
    "y = mx + b\n",
    "\n",
    "    y = output(target variable)\n",
    "    \n",
    "    m = slope\n",
    "    \n",
    "    b = intercept\n",
    "    \n",
    "    x = independent variable(features)"
   ]
  },
  {
   "cell_type": "code",
   "execution_count": null,
   "id": "bd6f3410",
   "metadata": {},
   "outputs": [],
   "source": [
    "X = [90,120,150,100,130,200]  # input features\n",
    "y = [1000,1300,1800,1200,1380,?]  # target"
   ]
  },
  {
   "cell_type": "code",
   "execution_count": null,
   "id": "8e27600f",
   "metadata": {},
   "outputs": [],
   "source": [
    "m = 30\n",
    "#y = x * 3 + b\n",
    "b = y[0] - (X[0] *30)\n",
    "b"
   ]
  },
  {
   "cell_type": "code",
   "execution_count": null,
   "id": "31e6c828",
   "metadata": {},
   "outputs": [],
   "source": [
    "# y = mx + b\n",
    "y = 30 * X - 1700\n",
    "y "
   ]
  },
  {
   "cell_type": "code",
   "execution_count": null,
   "id": "b2c74bf7",
   "metadata": {},
   "outputs": [],
   "source": [
    "y_pred - y"
   ]
  },
  {
   "cell_type": "code",
   "execution_count": null,
   "id": "25de8a07",
   "metadata": {},
   "outputs": [],
   "source": [
    "y"
   ]
  },
  {
   "cell_type": "code",
   "execution_count": null,
   "id": "026f6881",
   "metadata": {},
   "outputs": [],
   "source": [
    "import matplotlib.pyplot as plt\n",
    "plt.scatter(x,y)\n",
    "plt.plot(x,y_pred)\n",
    "plt.xlabel(\"Years of experience\")\n",
    "plt.ylabel(\"Salary\")\n",
    "plt.title(\"Linear Regression\");\n"
   ]
  },
  {
   "cell_type": "code",
   "execution_count": null,
   "id": "cb4db929",
   "metadata": {},
   "outputs": [],
   "source": [
    "y - y_pred"
   ]
  },
  {
   "cell_type": "code",
   "execution_count": null,
   "id": "411a4bc6",
   "metadata": {
    "scrolled": true
   },
   "outputs": [],
   "source": [
    "y_pred = m*x +c\n",
    "y_pred"
   ]
  },
  {
   "cell_type": "code",
   "execution_count": null,
   "id": "cdf614aa",
   "metadata": {},
   "outputs": [],
   "source": [
    "y -y_pred"
   ]
  },
  {
   "cell_type": "code",
   "execution_count": null,
   "id": "fcd54200",
   "metadata": {},
   "outputs": [],
   "source": [
    "x = np.array([1,2,3,4,5]) ## exp\n",
    "y = np.array([10,11,12,13,14]) ## salary\n",
    "plt.scatter(x,y)\n",
    "plt.plot(x,y_pred)\n",
    "plt.xlabel(\"Years of Experience\")\n",
    "plt.ylabel(\"Salary\");\n",
    "plt.title(\"Linear Regression\");\n"
   ]
  },
  {
   "cell_type": "code",
   "execution_count": null,
   "id": "875998be",
   "metadata": {},
   "outputs": [],
   "source": [
    "m = 1"
   ]
  },
  {
   "cell_type": "code",
   "execution_count": null,
   "id": "5c0a1ea5",
   "metadata": {},
   "outputs": [],
   "source": [
    "# y = mx+c\n",
    "# y[0] = m * x[0] + c"
   ]
  },
  {
   "cell_type": "code",
   "execution_count": null,
   "id": "ada2250b",
   "metadata": {},
   "outputs": [],
   "source": [
    "c = y[0] - (m* x[0])\n",
    "c"
   ]
  },
  {
   "cell_type": "code",
   "execution_count": null,
   "id": "807ca7fa",
   "metadata": {},
   "outputs": [],
   "source": [
    "y"
   ]
  },
  {
   "cell_type": "code",
   "execution_count": null,
   "id": "f0594466",
   "metadata": {},
   "outputs": [],
   "source": [
    "y_pred = (m*x) + c\n",
    "y_pred"
   ]
  },
  {
   "cell_type": "code",
   "execution_count": null,
   "id": "6418632c",
   "metadata": {},
   "outputs": [],
   "source": [
    "y - y_pred"
   ]
  },
  {
   "cell_type": "code",
   "execution_count": null,
   "id": "f0040983",
   "metadata": {},
   "outputs": [],
   "source": [
    "m = 2\n",
    "y[0] = 3 * x[0] + c"
   ]
  },
  {
   "cell_type": "code",
   "execution_count": null,
   "id": "c0b4dcbc",
   "metadata": {},
   "outputs": [],
   "source": [
    "c = y[0] - 3* x[0]\n",
    "c"
   ]
  },
  {
   "cell_type": "code",
   "execution_count": null,
   "id": "4c1fe050",
   "metadata": {},
   "outputs": [],
   "source": [
    "y"
   ]
  },
  {
   "cell_type": "code",
   "execution_count": null,
   "id": "308201a0",
   "metadata": {},
   "outputs": [],
   "source": [
    "y_pred  = 2*x +7\n",
    "y_pred"
   ]
  },
  {
   "cell_type": "markdown",
   "id": "02f47e4f",
   "metadata": {},
   "source": [
    "#### links to stimulate linear regression\n",
    "\n",
    "## <a href = https://www.mladdict.com/linear-regression-simulator> mladdict </a>\n",
    "## <a href =  https://phet.colorado.edu/en/simulations/least-squares-regression/teaching-resource> phet </a>\n",
    "\n",
    "\n",
    "#### Slope formula\n",
    "\n",
    "<img src = https://i.stack.imgur.com/tvj1P.gif>\n",
    "\n",
    "#### loss function\n",
    "\n",
    "<IMG SRC = data:image/png;base64,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>\n",
    "\n",
    "    \n",
    "### by minimising the loss function we will get good fit , less loss means more accuracy    \n",
    "    \n",
    "    \n",
    "<img src = https://gbhat.com/assets/gifs/linear_regression.gif width = 600>\n",
    "    \n",
    "   "
   ]
  },
  {
   "cell_type": "markdown",
   "id": "3d0546a0",
   "metadata": {},
   "source": [
    "![](https://th.bing.com/th/id/OIP.bMOrue7oLwbQc0FO-CeJYQAAAA?rs=1&pid=ImgDetMain)"
   ]
  },
  {
   "cell_type": "markdown",
   "id": "97b7caa7",
   "metadata": {},
   "source": [
    "## GRADIENT DESCENT\n",
    "\n",
    "* loss can be reduced by Gradient descent\n",
    "* learning rate is the changes respect to reducing loss in gradient descent ( global minima)\n",
    "* overall avergae of all loss function called as cost function\n",
    "\n",
    "* gradient descent minimising loss function by updating the parmeters by  (Repeat until convergence)\n",
    "\n",
    "- m = m-Learning_rate * dm \n",
    "- c = c-Learning_rate * dc\n",
    "\n",
    "<img src =https://editor.analyticsvidhya.com/uploads/976048.PNG>\n",
    "\n",
    "\n",
    "<img src = https://baptiste-monpezat.github.io/6f5cc892ec345d96f64c881b62b0d910/gradient_descent_parameter_a.gif width=400>\n",
    "\n",
    "<img src = https://content.codecademy.com/courses/deeplearning-with-tensorflow/deep-learning-math/Gradient_descent.gif width=500>"
   ]
  },
  {
   "cell_type": "markdown",
   "id": "f16d5837",
   "metadata": {},
   "source": [
    "### The formula for a simple linear regression (with one independent variable) is:\n",
    "       y = mx + b\n",
    "• y is the dependent variable (target),\n",
    "\n",
    "• x is the independent variable (feature),\n",
    "\n",
    "• m is the slope of the line (also called the weight or coefficient),\n",
    "\n",
    "• b is the y-intercept.\n",
    "\n",
    "To find the values of m and b that minimize the error, we can use the Ordinary Least Squares method. The\n",
    "formulas for m and b in terms of the data points are:"
   ]
  },
  {
   "cell_type": "code",
   "execution_count": 40,
   "id": "e2baff90",
   "metadata": {},
   "outputs": [
    {
     "data": {
      "text/html": [
       "<div>\n",
       "<style scoped>\n",
       "    .dataframe tbody tr th:only-of-type {\n",
       "        vertical-align: middle;\n",
       "    }\n",
       "\n",
       "    .dataframe tbody tr th {\n",
       "        vertical-align: top;\n",
       "    }\n",
       "\n",
       "    .dataframe thead th {\n",
       "        text-align: right;\n",
       "    }\n",
       "</style>\n",
       "<table border=\"1\" class=\"dataframe\">\n",
       "  <thead>\n",
       "    <tr style=\"text-align: right;\">\n",
       "      <th></th>\n",
       "      <th>YearsExperience</th>\n",
       "      <th>Salary</th>\n",
       "    </tr>\n",
       "  </thead>\n",
       "  <tbody>\n",
       "    <tr>\n",
       "      <th>0</th>\n",
       "      <td>1.1</td>\n",
       "      <td>39343.0</td>\n",
       "    </tr>\n",
       "    <tr>\n",
       "      <th>1</th>\n",
       "      <td>1.3</td>\n",
       "      <td>46205.0</td>\n",
       "    </tr>\n",
       "    <tr>\n",
       "      <th>2</th>\n",
       "      <td>1.5</td>\n",
       "      <td>37731.0</td>\n",
       "    </tr>\n",
       "    <tr>\n",
       "      <th>3</th>\n",
       "      <td>2.0</td>\n",
       "      <td>43525.0</td>\n",
       "    </tr>\n",
       "    <tr>\n",
       "      <th>4</th>\n",
       "      <td>2.2</td>\n",
       "      <td>39891.0</td>\n",
       "    </tr>\n",
       "    <tr>\n",
       "      <th>5</th>\n",
       "      <td>2.9</td>\n",
       "      <td>56642.0</td>\n",
       "    </tr>\n",
       "    <tr>\n",
       "      <th>6</th>\n",
       "      <td>3.0</td>\n",
       "      <td>60150.0</td>\n",
       "    </tr>\n",
       "    <tr>\n",
       "      <th>7</th>\n",
       "      <td>3.2</td>\n",
       "      <td>54445.0</td>\n",
       "    </tr>\n",
       "    <tr>\n",
       "      <th>8</th>\n",
       "      <td>3.2</td>\n",
       "      <td>64445.0</td>\n",
       "    </tr>\n",
       "    <tr>\n",
       "      <th>9</th>\n",
       "      <td>3.7</td>\n",
       "      <td>57189.0</td>\n",
       "    </tr>\n",
       "    <tr>\n",
       "      <th>10</th>\n",
       "      <td>3.9</td>\n",
       "      <td>63218.0</td>\n",
       "    </tr>\n",
       "    <tr>\n",
       "      <th>11</th>\n",
       "      <td>4.0</td>\n",
       "      <td>55794.0</td>\n",
       "    </tr>\n",
       "    <tr>\n",
       "      <th>12</th>\n",
       "      <td>4.0</td>\n",
       "      <td>56957.0</td>\n",
       "    </tr>\n",
       "    <tr>\n",
       "      <th>13</th>\n",
       "      <td>4.1</td>\n",
       "      <td>57081.0</td>\n",
       "    </tr>\n",
       "    <tr>\n",
       "      <th>14</th>\n",
       "      <td>4.5</td>\n",
       "      <td>61111.0</td>\n",
       "    </tr>\n",
       "    <tr>\n",
       "      <th>15</th>\n",
       "      <td>4.9</td>\n",
       "      <td>67938.0</td>\n",
       "    </tr>\n",
       "    <tr>\n",
       "      <th>16</th>\n",
       "      <td>5.1</td>\n",
       "      <td>66029.0</td>\n",
       "    </tr>\n",
       "    <tr>\n",
       "      <th>17</th>\n",
       "      <td>5.3</td>\n",
       "      <td>83088.0</td>\n",
       "    </tr>\n",
       "    <tr>\n",
       "      <th>18</th>\n",
       "      <td>5.9</td>\n",
       "      <td>81363.0</td>\n",
       "    </tr>\n",
       "    <tr>\n",
       "      <th>19</th>\n",
       "      <td>6.0</td>\n",
       "      <td>93940.0</td>\n",
       "    </tr>\n",
       "    <tr>\n",
       "      <th>20</th>\n",
       "      <td>6.8</td>\n",
       "      <td>91738.0</td>\n",
       "    </tr>\n",
       "    <tr>\n",
       "      <th>21</th>\n",
       "      <td>7.1</td>\n",
       "      <td>98273.0</td>\n",
       "    </tr>\n",
       "    <tr>\n",
       "      <th>22</th>\n",
       "      <td>7.9</td>\n",
       "      <td>101302.0</td>\n",
       "    </tr>\n",
       "    <tr>\n",
       "      <th>23</th>\n",
       "      <td>8.2</td>\n",
       "      <td>113812.0</td>\n",
       "    </tr>\n",
       "    <tr>\n",
       "      <th>24</th>\n",
       "      <td>8.7</td>\n",
       "      <td>109431.0</td>\n",
       "    </tr>\n",
       "    <tr>\n",
       "      <th>25</th>\n",
       "      <td>9.0</td>\n",
       "      <td>105582.0</td>\n",
       "    </tr>\n",
       "    <tr>\n",
       "      <th>26</th>\n",
       "      <td>9.5</td>\n",
       "      <td>116969.0</td>\n",
       "    </tr>\n",
       "    <tr>\n",
       "      <th>27</th>\n",
       "      <td>9.6</td>\n",
       "      <td>112635.0</td>\n",
       "    </tr>\n",
       "    <tr>\n",
       "      <th>28</th>\n",
       "      <td>10.3</td>\n",
       "      <td>122391.0</td>\n",
       "    </tr>\n",
       "    <tr>\n",
       "      <th>29</th>\n",
       "      <td>10.5</td>\n",
       "      <td>121872.0</td>\n",
       "    </tr>\n",
       "  </tbody>\n",
       "</table>\n",
       "</div>"
      ],
      "text/plain": [
       "    YearsExperience    Salary\n",
       "0               1.1   39343.0\n",
       "1               1.3   46205.0\n",
       "2               1.5   37731.0\n",
       "3               2.0   43525.0\n",
       "4               2.2   39891.0\n",
       "5               2.9   56642.0\n",
       "6               3.0   60150.0\n",
       "7               3.2   54445.0\n",
       "8               3.2   64445.0\n",
       "9               3.7   57189.0\n",
       "10              3.9   63218.0\n",
       "11              4.0   55794.0\n",
       "12              4.0   56957.0\n",
       "13              4.1   57081.0\n",
       "14              4.5   61111.0\n",
       "15              4.9   67938.0\n",
       "16              5.1   66029.0\n",
       "17              5.3   83088.0\n",
       "18              5.9   81363.0\n",
       "19              6.0   93940.0\n",
       "20              6.8   91738.0\n",
       "21              7.1   98273.0\n",
       "22              7.9  101302.0\n",
       "23              8.2  113812.0\n",
       "24              8.7  109431.0\n",
       "25              9.0  105582.0\n",
       "26              9.5  116969.0\n",
       "27              9.6  112635.0\n",
       "28             10.3  122391.0\n",
       "29             10.5  121872.0"
      ]
     },
     "execution_count": 40,
     "metadata": {},
     "output_type": "execute_result"
    }
   ],
   "source": [
    "df = pd.read_csv(\"E:\\Data\\Salary_Data.csv\")\n",
    "df"
   ]
  },
  {
   "cell_type": "code",
   "execution_count": 42,
   "id": "ec7d0f5c",
   "metadata": {},
   "outputs": [
    {
     "data": {
      "text/plain": [
       "YearsExperience    float64\n",
       "Salary             float64\n",
       "dtype: object"
      ]
     },
     "execution_count": 42,
     "metadata": {},
     "output_type": "execute_result"
    }
   ],
   "source": [
    "df.dtypes"
   ]
  },
  {
   "cell_type": "code",
   "execution_count": 43,
   "id": "ab4c27ac",
   "metadata": {},
   "outputs": [
    {
     "data": {
      "text/plain": [
       "array([[ 1.1],\n",
       "       [ 1.3],\n",
       "       [ 1.5],\n",
       "       [ 2. ],\n",
       "       [ 2.2],\n",
       "       [ 2.9],\n",
       "       [ 3. ],\n",
       "       [ 3.2],\n",
       "       [ 3.2],\n",
       "       [ 3.7],\n",
       "       [ 3.9],\n",
       "       [ 4. ],\n",
       "       [ 4. ],\n",
       "       [ 4.1],\n",
       "       [ 4.5],\n",
       "       [ 4.9],\n",
       "       [ 5.1],\n",
       "       [ 5.3],\n",
       "       [ 5.9],\n",
       "       [ 6. ],\n",
       "       [ 6.8],\n",
       "       [ 7.1],\n",
       "       [ 7.9],\n",
       "       [ 8.2],\n",
       "       [ 8.7],\n",
       "       [ 9. ],\n",
       "       [ 9.5],\n",
       "       [ 9.6],\n",
       "       [10.3],\n",
       "       [10.5]])"
      ]
     },
     "execution_count": 43,
     "metadata": {},
     "output_type": "execute_result"
    }
   ],
   "source": [
    "x = df.drop([\"Salary\"],axis = 1).values  ## features\n",
    "y = df[\"Salary\"].values  ## target\n",
    "x"
   ]
  },
  {
   "cell_type": "code",
   "execution_count": 44,
   "id": "358f2f22",
   "metadata": {},
   "outputs": [
    {
     "data": {
      "text/plain": [
       "array([ 39343.,  46205.,  37731.,  43525.,  39891.,  56642.,  60150.,\n",
       "        54445.,  64445.,  57189.,  63218.,  55794.,  56957.,  57081.,\n",
       "        61111.,  67938.,  66029.,  83088.,  81363.,  93940.,  91738.,\n",
       "        98273., 101302., 113812., 109431., 105582., 116969., 112635.,\n",
       "       122391., 121872.])"
      ]
     },
     "execution_count": 44,
     "metadata": {},
     "output_type": "execute_result"
    }
   ],
   "source": [
    "y"
   ]
  },
  {
   "cell_type": "code",
   "execution_count": 52,
   "id": "fe4d6f8d",
   "metadata": {},
   "outputs": [
    {
     "data": {
      "image/png": "[encoded data removed]",
      "text/plain": [
       "<Figure size 640x480 with 1 Axes>"
      ]
     },
     "metadata": {},
     "output_type": "display_data"
    }
   ],
   "source": [
    "plt.scatter(x,y)\n",
    "plt.plot(x,y_pred)\n",
    "plt.xlabel(\"Yrs of Experience\")\n",
    "plt.ylabel(\"Salary\");"
   ]
  },
  {
   "cell_type": "code",
   "execution_count": 47,
   "id": "95062522",
   "metadata": {},
   "outputs": [
    {
     "data": {
      "text/html": [
       "<style>#sk-container-id-1 {\n",
       "  /* Definition of color scheme common for light and dark mode */\n",
       "  --sklearn-color-text: black;\n",
       "  --sklearn-color-line: gray;\n",
       "  /* Definition of color scheme for unfitted estimators */\n",
       "  --sklearn-color-unfitted-level-0: #fff5e6;\n",
       "  --sklearn-color-unfitted-level-1: #f6e4d2;\n",
       "  --sklearn-color-unfitted-level-2: #ffe0b3;\n",
       "  --sklearn-color-unfitted-level-3: chocolate;\n",
       "  /* Definition of color scheme for fitted estimators */\n",
       "  --sklearn-color-fitted-level-0: #f0f8ff;\n",
       "  --sklearn-color-fitted-level-1: #d4ebff;\n",
       "  --sklearn-color-fitted-level-2: #b3dbfd;\n",
       "  --sklearn-color-fitted-level-3: cornflowerblue;\n",
       "\n",
       "  /* Specific color for light theme */\n",
       "  --sklearn-color-text-on-default-background: var(--sg-text-color, var(--theme-code-foreground, var(--jp-content-font-color1, black)));\n",
       "  --sklearn-color-background: var(--sg-background-color, var(--theme-background, var(--jp-layout-color0, white)));\n",
       "  --sklearn-color-border-box: var(--sg-text-color, var(--theme-code-foreground, var(--jp-content-font-color1, black)));\n",
       "  --sklearn-color-icon: #696969;\n",
       "\n",
       "  @media (prefers-color-scheme: dark) {\n",
       "    /* Redefinition of color scheme for dark theme */\n",
       "    --sklearn-color-text-on-default-background: var(--sg-text-color, var(--theme-code-foreground, var(--jp-content-font-color1, white)));\n",
       "    --sklearn-color-background: var(--sg-background-color, var(--theme-background, var(--jp-layout-color0, #111)));\n",
       "    --sklearn-color-border-box: var(--sg-text-color, var(--theme-code-foreground, var(--jp-content-font-color1, white)));\n",
       "    --sklearn-color-icon: #878787;\n",
       "  }\n",
       "}\n",
       "\n",
       "#sk-container-id-1 {\n",
       "  color: var(--sklearn-color-text);\n",
       "}\n",
       "\n",
       "#sk-container-id-1 pre {\n",
       "  padding: 0;\n",
       "}\n",
       "\n",
       "#sk-container-id-1 input.sk-hidden--visually {\n",
       "  border: 0;\n",
       "  clip: rect(1px 1px 1px 1px);\n",
       "  clip: rect(1px, 1px, 1px, 1px);\n",
       "  height: 1px;\n",
       "  margin: -1px;\n",
       "  overflow: hidden;\n",
       "  padding: 0;\n",
       "  position: absolute;\n",
       "  width: 1px;\n",
       "}\n",
       "\n",
       "#sk-container-id-1 div.sk-dashed-wrapped {\n",
       "  border: 1px dashed var(--sklearn-color-line);\n",
       "  margin: 0 0.4em 0.5em 0.4em;\n",
       "  box-sizing: border-box;\n",
       "  padding-bottom: 0.4em;\n",
       "  background-color: var(--sklearn-color-background);\n",
       "}\n",
       "\n",
       "#sk-container-id-1 div.sk-container {\n",
       "  /* jupyter's `normalize.less` sets `[hidden] { display: none; }`\n",
       "     but bootstrap.min.css set `[hidden] { display: none !important; }`\n",
       "     so we also need the `!important` here to be able to override the\n",
       "     default hidden behavior on the sphinx rendered scikit-learn.org.\n",
       "     See: https://github.com/scikit-learn/scikit-learn/issues/21755 */\n",
       "  display: inline-block !important;\n",
       "  position: relative;\n",
       "}\n",
       "\n",
       "#sk-container-id-1 div.sk-text-repr-fallback {\n",
       "  display: none;\n",
       "}\n",
       "\n",
       "div.sk-parallel-item,\n",
       "div.sk-serial,\n",
       "div.sk-item {\n",
       "  /* draw centered vertical line to link estimators */\n",
       "  background-image: linear-gradient(var(--sklearn-color-text-on-default-background), var(--sklearn-color-text-on-default-background));\n",
       "  background-size: 2px 100%;\n",
       "  background-repeat: no-repeat;\n",
       "  background-position: center center;\n",
       "}\n",
       "\n",
       "/* Parallel-specific style estimator block */\n",
       "\n",
       "#sk-container-id-1 div.sk-parallel-item::after {\n",
       "  content: \"\";\n",
       "  width: 100%;\n",
       "  border-bottom: 2px solid var(--sklearn-color-text-on-default-background);\n",
       "  flex-grow: 1;\n",
       "}\n",
       "\n",
       "#sk-container-id-1 div.sk-parallel {\n",
       "  display: flex;\n",
       "  align-items: stretch;\n",
       "  justify-content: center;\n",
       "  background-color: var(--sklearn-color-background);\n",
       "  position: relative;\n",
       "}\n",
       "\n",
       "#sk-container-id-1 div.sk-parallel-item {\n",
       "  display: flex;\n",
       "  flex-direction: column;\n",
       "}\n",
       "\n",
       "#sk-container-id-1 div.sk-parallel-item:first-child::after {\n",
       "  align-self: flex-end;\n",
       "  width: 50%;\n",
       "}\n",
       "\n",
       "#sk-container-id-1 div.sk-parallel-item:last-child::after {\n",
       "  align-self: flex-start;\n",
       "  width: 50%;\n",
       "}\n",
       "\n",
       "#sk-container-id-1 div.sk-parallel-item:only-child::after {\n",
       "  width: 0;\n",
       "}\n",
       "\n",
       "/* Serial-specific style estimator block */\n",
       "\n",
       "#sk-container-id-1 div.sk-serial {\n",
       "  display: flex;\n",
       "  flex-direction: column;\n",
       "  align-items: center;\n",
       "  background-color: var(--sklearn-color-background);\n",
       "  padding-right: 1em;\n",
       "  padding-left: 1em;\n",
       "}\n",
       "\n",
       "\n",
       "/* Toggleable style: style used for estimator/Pipeline/ColumnTransformer box that is\n",
       "clickable and can be expanded/collapsed.\n",
       "- Pipeline and ColumnTransformer use this feature and define the default style\n",
       "- Estimators will overwrite some part of the style using the `sk-estimator` class\n",
       "*/\n",
       "\n",
       "/* Pipeline and ColumnTransformer style (default) */\n",
       "\n",
       "#sk-container-id-1 div.sk-toggleable {\n",
       "  /* Default theme specific background. It is overwritten whether we have a\n",
       "  specific estimator or a Pipeline/ColumnTransformer */\n",
       "  background-color: var(--sklearn-color-background);\n",
       "}\n",
       "\n",
       "/* Toggleable label */\n",
       "#sk-container-id-1 label.sk-toggleable__label {\n",
       "  cursor: pointer;\n",
       "  display: block;\n",
       "  width: 100%;\n",
       "  margin-bottom: 0;\n",
       "  padding: 0.5em;\n",
       "  box-sizing: border-box;\n",
       "  text-align: center;\n",
       "}\n",
       "\n",
       "#sk-container-id-1 label.sk-toggleable__label-arrow:before {\n",
       "  /* Arrow on the left of the label */\n",
       "  content: \"▸\";\n",
       "  float: left;\n",
       "  margin-right: 0.25em;\n",
       "  color: var(--sklearn-color-icon);\n",
       "}\n",
       "\n",
       "#sk-container-id-1 label.sk-toggleable__label-arrow:hover:before {\n",
       "  color: var(--sklearn-color-text);\n",
       "}\n",
       "\n",
       "/* Toggleable content - dropdown */\n",
       "\n",
       "#sk-container-id-1 div.sk-toggleable__content {\n",
       "  max-height: 0;\n",
       "  max-width: 0;\n",
       "  overflow: hidden;\n",
       "  text-align: left;\n",
       "  /* unfitted */\n",
       "  background-color: var(--sklearn-color-unfitted-level-0);\n",
       "}\n",
       "\n",
       "#sk-container-id-1 div.sk-toggleable__content.fitted {\n",
       "  /* fitted */\n",
       "  background-color: var(--sklearn-color-fitted-level-0);\n",
       "}\n",
       "\n",
       "#sk-container-id-1 div.sk-toggleable__content pre {\n",
       "  margin: 0.2em;\n",
       "  border-radius: 0.25em;\n",
       "  color: var(--sklearn-color-text);\n",
       "  /* unfitted */\n",
       "  background-color: var(--sklearn-color-unfitted-level-0);\n",
       "}\n",
       "\n",
       "#sk-container-id-1 div.sk-toggleable__content.fitted pre {\n",
       "  /* unfitted */\n",
       "  background-color: var(--sklearn-color-fitted-level-0);\n",
       "}\n",
       "\n",
       "#sk-container-id-1 input.sk-toggleable__control:checked~div.sk-toggleable__content {\n",
       "  /* Expand drop-down */\n",
       "  max-height: 200px;\n",
       "  max-width: 100%;\n",
       "  overflow: auto;\n",
       "}\n",
       "\n",
       "#sk-container-id-1 input.sk-toggleable__control:checked~label.sk-toggleable__label-arrow:before {\n",
       "  content: \"▾\";\n",
       "}\n",
       "\n",
       "/* Pipeline/ColumnTransformer-specific style */\n",
       "\n",
       "#sk-container-id-1 div.sk-label input.sk-toggleable__control:checked~label.sk-toggleable__label {\n",
       "  color: var(--sklearn-color-text);\n",
       "  background-color: var(--sklearn-color-unfitted-level-2);\n",
       "}\n",
       "\n",
       "#sk-container-id-1 div.sk-label.fitted input.sk-toggleable__control:checked~label.sk-toggleable__label {\n",
       "  background-color: var(--sklearn-color-fitted-level-2);\n",
       "}\n",
       "\n",
       "/* Estimator-specific style */\n",
       "\n",
       "/* Colorize estimator box */\n",
       "#sk-container-id-1 div.sk-estimator input.sk-toggleable__control:checked~label.sk-toggleable__label {\n",
       "  /* unfitted */\n",
       "  background-color: var(--sklearn-color-unfitted-level-2);\n",
       "}\n",
       "\n",
       "#sk-container-id-1 div.sk-estimator.fitted input.sk-toggleable__control:checked~label.sk-toggleable__label {\n",
       "  /* fitted */\n",
       "  background-color: var(--sklearn-color-fitted-level-2);\n",
       "}\n",
       "\n",
       "#sk-container-id-1 div.sk-label label.sk-toggleable__label,\n",
       "#sk-container-id-1 div.sk-label label {\n",
       "  /* The background is the default theme color */\n",
       "  color: var(--sklearn-color-text-on-default-background);\n",
       "}\n",
       "\n",
       "/* On hover, darken the color of the background */\n",
       "#sk-container-id-1 div.sk-label:hover label.sk-toggleable__label {\n",
       "  color: var(--sklearn-color-text);\n",
       "  background-color: var(--sklearn-color-unfitted-level-2);\n",
       "}\n",
       "\n",
       "/* Label box, darken color on hover, fitted */\n",
       "#sk-container-id-1 div.sk-label.fitted:hover label.sk-toggleable__label.fitted {\n",
       "  color: var(--sklearn-color-text);\n",
       "  background-color: var(--sklearn-color-fitted-level-2);\n",
       "}\n",
       "\n",
       "/* Estimator label */\n",
       "\n",
       "#sk-container-id-1 div.sk-label label {\n",
       "  font-family: monospace;\n",
       "  font-weight: bold;\n",
       "  display: inline-block;\n",
       "  line-height: 1.2em;\n",
       "}\n",
       "\n",
       "#sk-container-id-1 div.sk-label-container {\n",
       "  text-align: center;\n",
       "}\n",
       "\n",
       "/* Estimator-specific */\n",
       "#sk-container-id-1 div.sk-estimator {\n",
       "  font-family: monospace;\n",
       "  border: 1px dotted var(--sklearn-color-border-box);\n",
       "  border-radius: 0.25em;\n",
       "  box-sizing: border-box;\n",
       "  margin-bottom: 0.5em;\n",
       "  /* unfitted */\n",
       "  background-color: var(--sklearn-color-unfitted-level-0);\n",
       "}\n",
       "\n",
       "#sk-container-id-1 div.sk-estimator.fitted {\n",
       "  /* fitted */\n",
       "  background-color: var(--sklearn-color-fitted-level-0);\n",
       "}\n",
       "\n",
       "/* on hover */\n",
       "#sk-container-id-1 div.sk-estimator:hover {\n",
       "  /* unfitted */\n",
       "  background-color: var(--sklearn-color-unfitted-level-2);\n",
       "}\n",
       "\n",
       "#sk-container-id-1 div.sk-estimator.fitted:hover {\n",
       "  /* fitted */\n",
       "  background-color: var(--sklearn-color-fitted-level-2);\n",
       "}\n",
       "\n",
       "/* Specification for estimator info (e.g. \"i\" and \"?\") */\n",
       "\n",
       "/* Common style for \"i\" and \"?\" */\n",
       "\n",
       ".sk-estimator-doc-link,\n",
       "a:link.sk-estimator-doc-link,\n",
       "a:visited.sk-estimator-doc-link {\n",
       "  float: right;\n",
       "  font-size: smaller;\n",
       "  line-height: 1em;\n",
       "  font-family: monospace;\n",
       "  background-color: var(--sklearn-color-background);\n",
       "  border-radius: 1em;\n",
       "  height: 1em;\n",
       "  width: 1em;\n",
       "  text-decoration: none !important;\n",
       "  margin-left: 1ex;\n",
       "  /* unfitted */\n",
       "  border: var(--sklearn-color-unfitted-level-1) 1pt solid;\n",
       "  color: var(--sklearn-color-unfitted-level-1);\n",
       "}\n",
       "\n",
       ".sk-estimator-doc-link.fitted,\n",
       "a:link.sk-estimator-doc-link.fitted,\n",
       "a:visited.sk-estimator-doc-link.fitted {\n",
       "  /* fitted */\n",
       "  border: var(--sklearn-color-fitted-level-1) 1pt solid;\n",
       "  color: var(--sklearn-color-fitted-level-1);\n",
       "}\n",
       "\n",
       "/* On hover */\n",
       "div.sk-estimator:hover .sk-estimator-doc-link:hover,\n",
       ".sk-estimator-doc-link:hover,\n",
       "div.sk-label-container:hover .sk-estimator-doc-link:hover,\n",
       ".sk-estimator-doc-link:hover {\n",
       "  /* unfitted */\n",
       "  background-color: var(--sklearn-color-unfitted-level-3);\n",
       "  color: var(--sklearn-color-background);\n",
       "  text-decoration: none;\n",
       "}\n",
       "\n",
       "div.sk-estimator.fitted:hover .sk-estimator-doc-link.fitted:hover,\n",
       ".sk-estimator-doc-link.fitted:hover,\n",
       "div.sk-label-container:hover .sk-estimator-doc-link.fitted:hover,\n",
       ".sk-estimator-doc-link.fitted:hover {\n",
       "  /* fitted */\n",
       "  background-color: var(--sklearn-color-fitted-level-3);\n",
       "  color: var(--sklearn-color-background);\n",
       "  text-decoration: none;\n",
       "}\n",
       "\n",
       "/* Span, style for the box shown on hovering the info icon */\n",
       ".sk-estimator-doc-link span {\n",
       "  display: none;\n",
       "  z-index: 9999;\n",
       "  position: relative;\n",
       "  font-weight: normal;\n",
       "  right: .2ex;\n",
       "  padding: .5ex;\n",
       "  margin: .5ex;\n",
       "  width: min-content;\n",
       "  min-width: 20ex;\n",
       "  max-width: 50ex;\n",
       "  color: var(--sklearn-color-text);\n",
       "  box-shadow: 2pt 2pt 4pt #999;\n",
       "  /* unfitted */\n",
       "  background: var(--sklearn-color-unfitted-level-0);\n",
       "  border: .5pt solid var(--sklearn-color-unfitted-level-3);\n",
       "}\n",
       "\n",
       ".sk-estimator-doc-link.fitted span {\n",
       "  /* fitted */\n",
       "  background: var(--sklearn-color-fitted-level-0);\n",
       "  border: var(--sklearn-color-fitted-level-3);\n",
       "}\n",
       "\n",
       ".sk-estimator-doc-link:hover span {\n",
       "  display: block;\n",
       "}\n",
       "\n",
       "/* \"?\"-specific style due to the `<a>` HTML tag */\n",
       "\n",
       "#sk-container-id-1 a.estimator_doc_link {\n",
       "  float: right;\n",
       "  font-size: 1rem;\n",
       "  line-height: 1em;\n",
       "  font-family: monospace;\n",
       "  background-color: var(--sklearn-color-background);\n",
       "  border-radius: 1rem;\n",
       "  height: 1rem;\n",
       "  width: 1rem;\n",
       "  text-decoration: none;\n",
       "  /* unfitted */\n",
       "  color: var(--sklearn-color-unfitted-level-1);\n",
       "  border: var(--sklearn-color-unfitted-level-1) 1pt solid;\n",
       "}\n",
       "\n",
       "#sk-container-id-1 a.estimator_doc_link.fitted {\n",
       "  /* fitted */\n",
       "  border: var(--sklearn-color-fitted-level-1) 1pt solid;\n",
       "  color: var(--sklearn-color-fitted-level-1);\n",
       "}\n",
       "\n",
       "/* On hover */\n",
       "#sk-container-id-1 a.estimator_doc_link:hover {\n",
       "  /* unfitted */\n",
       "  background-color: var(--sklearn-color-unfitted-level-3);\n",
       "  color: var(--sklearn-color-background);\n",
       "  text-decoration: none;\n",
       "}\n",
       "\n",
       "#sk-container-id-1 a.estimator_doc_link.fitted:hover {\n",
       "  /* fitted */\n",
       "  background-color: var(--sklearn-color-fitted-level-3);\n",
       "}\n",
       "</style><div id=\"sk-container-id-1\" class=\"sk-top-container\"><div class=\"sk-text-repr-fallback\"><pre>LinearRegression()</pre><b>In a Jupyter environment, please rerun this cell to show the HTML representation or trust the notebook. <br />On GitHub, the HTML representation is unable to render, please try loading this page with nbviewer.org.</b></div><div class=\"sk-container\" hidden><div class=\"sk-item\"><div class=\"sk-estimator  sk-toggleable\"><input class=\"sk-toggleable__control sk-hidden--visually\" id=\"sk-estimator-id-1\" type=\"checkbox\" checked><label for=\"sk-estimator-id-1\" class=\"sk-toggleable__label  sk-toggleable__label-arrow \">&nbsp;&nbsp;LinearRegression<a class=\"sk-estimator-doc-link \" rel=\"noreferrer\" target=\"_blank\" href=\"https://scikit-learn.org/1.4/modules/generated/sklearn.linear_model.LinearRegression.html\">?<span>Documentation for LinearRegression</span></a><span class=\"sk-estimator-doc-link \">i<span>Not fitted</span></span></label><div class=\"sk-toggleable__content \"><pre>LinearRegression()</pre></div> </div></div></div></div>"
      ],
      "text/plain": [
       "LinearRegression()"
      ]
     },
     "execution_count": 47,
     "metadata": {},
     "output_type": "execute_result"
    }
   ],
   "source": [
    "from sklearn.linear_model import LinearRegression\n",
    "lr = LinearRegression()\n",
    "lr"
   ]
  },
  {
   "cell_type": "code",
   "execution_count": 48,
   "id": "2954d644",
   "metadata": {},
   "outputs": [
    {
     "data": {
      "text/html": [
       "<style>#sk-container-id-2 {\n",
       "  /* Definition of color scheme common for light and dark mode */\n",
       "  --sklearn-color-text: black;\n",
       "  --sklearn-color-line: gray;\n",
       "  /* Definition of color scheme for unfitted estimators */\n",
       "  --sklearn-color-unfitted-level-0: #fff5e6;\n",
       "  --sklearn-color-unfitted-level-1: #f6e4d2;\n",
       "  --sklearn-color-unfitted-level-2: #ffe0b3;\n",
       "  --sklearn-color-unfitted-level-3: chocolate;\n",
       "  /* Definition of color scheme for fitted estimators */\n",
       "  --sklearn-color-fitted-level-0: #f0f8ff;\n",
       "  --sklearn-color-fitted-level-1: #d4ebff;\n",
       "  --sklearn-color-fitted-level-2: #b3dbfd;\n",
       "  --sklearn-color-fitted-level-3: cornflowerblue;\n",
       "\n",
       "  /* Specific color for light theme */\n",
       "  --sklearn-color-text-on-default-background: var(--sg-text-color, var(--theme-code-foreground, var(--jp-content-font-color1, black)));\n",
       "  --sklearn-color-background: var(--sg-background-color, var(--theme-background, var(--jp-layout-color0, white)));\n",
       "  --sklearn-color-border-box: var(--sg-text-color, var(--theme-code-foreground, var(--jp-content-font-color1, black)));\n",
       "  --sklearn-color-icon: #696969;\n",
       "\n",
       "  @media (prefers-color-scheme: dark) {\n",
       "    /* Redefinition of color scheme for dark theme */\n",
       "    --sklearn-color-text-on-default-background: var(--sg-text-color, var(--theme-code-foreground, var(--jp-content-font-color1, white)));\n",
       "    --sklearn-color-background: var(--sg-background-color, var(--theme-background, var(--jp-layout-color0, #111)));\n",
       "    --sklearn-color-border-box: var(--sg-text-color, var(--theme-code-foreground, var(--jp-content-font-color1, white)));\n",
       "    --sklearn-color-icon: #878787;\n",
       "  }\n",
       "}\n",
       "\n",
       "#sk-container-id-2 {\n",
       "  color: var(--sklearn-color-text);\n",
       "}\n",
       "\n",
       "#sk-container-id-2 pre {\n",
       "  padding: 0;\n",
       "}\n",
       "\n",
       "#sk-container-id-2 input.sk-hidden--visually {\n",
       "  border: 0;\n",
       "  clip: rect(1px 1px 1px 1px);\n",
       "  clip: rect(1px, 1px, 1px, 1px);\n",
       "  height: 1px;\n",
       "  margin: -1px;\n",
       "  overflow: hidden;\n",
       "  padding: 0;\n",
       "  position: absolute;\n",
       "  width: 1px;\n",
       "}\n",
       "\n",
       "#sk-container-id-2 div.sk-dashed-wrapped {\n",
       "  border: 1px dashed var(--sklearn-color-line);\n",
       "  margin: 0 0.4em 0.5em 0.4em;\n",
       "  box-sizing: border-box;\n",
       "  padding-bottom: 0.4em;\n",
       "  background-color: var(--sklearn-color-background);\n",
       "}\n",
       "\n",
       "#sk-container-id-2 div.sk-container {\n",
       "  /* jupyter's `normalize.less` sets `[hidden] { display: none; }`\n",
       "     but bootstrap.min.css set `[hidden] { display: none !important; }`\n",
       "     so we also need the `!important` here to be able to override the\n",
       "     default hidden behavior on the sphinx rendered scikit-learn.org.\n",
       "     See: https://github.com/scikit-learn/scikit-learn/issues/21755 */\n",
       "  display: inline-block !important;\n",
       "  position: relative;\n",
       "}\n",
       "\n",
       "#sk-container-id-2 div.sk-text-repr-fallback {\n",
       "  display: none;\n",
       "}\n",
       "\n",
       "div.sk-parallel-item,\n",
       "div.sk-serial,\n",
       "div.sk-item {\n",
       "  /* draw centered vertical line to link estimators */\n",
       "  background-image: linear-gradient(var(--sklearn-color-text-on-default-background), var(--sklearn-color-text-on-default-background));\n",
       "  background-size: 2px 100%;\n",
       "  background-repeat: no-repeat;\n",
       "  background-position: center center;\n",
       "}\n",
       "\n",
       "/* Parallel-specific style estimator block */\n",
       "\n",
       "#sk-container-id-2 div.sk-parallel-item::after {\n",
       "  content: \"\";\n",
       "  width: 100%;\n",
       "  border-bottom: 2px solid var(--sklearn-color-text-on-default-background);\n",
       "  flex-grow: 1;\n",
       "}\n",
       "\n",
       "#sk-container-id-2 div.sk-parallel {\n",
       "  display: flex;\n",
       "  align-items: stretch;\n",
       "  justify-content: center;\n",
       "  background-color: var(--sklearn-color-background);\n",
       "  position: relative;\n",
       "}\n",
       "\n",
       "#sk-container-id-2 div.sk-parallel-item {\n",
       "  display: flex;\n",
       "  flex-direction: column;\n",
       "}\n",
       "\n",
       "#sk-container-id-2 div.sk-parallel-item:first-child::after {\n",
       "  align-self: flex-end;\n",
       "  width: 50%;\n",
       "}\n",
       "\n",
       "#sk-container-id-2 div.sk-parallel-item:last-child::after {\n",
       "  align-self: flex-start;\n",
       "  width: 50%;\n",
       "}\n",
       "\n",
       "#sk-container-id-2 div.sk-parallel-item:only-child::after {\n",
       "  width: 0;\n",
       "}\n",
       "\n",
       "/* Serial-specific style estimator block */\n",
       "\n",
       "#sk-container-id-2 div.sk-serial {\n",
       "  display: flex;\n",
       "  flex-direction: column;\n",
       "  align-items: center;\n",
       "  background-color: var(--sklearn-color-background);\n",
       "  padding-right: 1em;\n",
       "  padding-left: 1em;\n",
       "}\n",
       "\n",
       "\n",
       "/* Toggleable style: style used for estimator/Pipeline/ColumnTransformer box that is\n",
       "clickable and can be expanded/collapsed.\n",
       "- Pipeline and ColumnTransformer use this feature and define the default style\n",
       "- Estimators will overwrite some part of the style using the `sk-estimator` class\n",
       "*/\n",
       "\n",
       "/* Pipeline and ColumnTransformer style (default) */\n",
       "\n",
       "#sk-container-id-2 div.sk-toggleable {\n",
       "  /* Default theme specific background. It is overwritten whether we have a\n",
       "  specific estimator or a Pipeline/ColumnTransformer */\n",
       "  background-color: var(--sklearn-color-background);\n",
       "}\n",
       "\n",
       "/* Toggleable label */\n",
       "#sk-container-id-2 label.sk-toggleable__label {\n",
       "  cursor: pointer;\n",
       "  display: block;\n",
       "  width: 100%;\n",
       "  margin-bottom: 0;\n",
       "  padding: 0.5em;\n",
       "  box-sizing: border-box;\n",
       "  text-align: center;\n",
       "}\n",
       "\n",
       "#sk-container-id-2 label.sk-toggleable__label-arrow:before {\n",
       "  /* Arrow on the left of the label */\n",
       "  content: \"▸\";\n",
       "  float: left;\n",
       "  margin-right: 0.25em;\n",
       "  color: var(--sklearn-color-icon);\n",
       "}\n",
       "\n",
       "#sk-container-id-2 label.sk-toggleable__label-arrow:hover:before {\n",
       "  color: var(--sklearn-color-text);\n",
       "}\n",
       "\n",
       "/* Toggleable content - dropdown */\n",
       "\n",
       "#sk-container-id-2 div.sk-toggleable__content {\n",
       "  max-height: 0;\n",
       "  max-width: 0;\n",
       "  overflow: hidden;\n",
       "  text-align: left;\n",
       "  /* unfitted */\n",
       "  background-color: var(--sklearn-color-unfitted-level-0);\n",
       "}\n",
       "\n",
       "#sk-container-id-2 div.sk-toggleable__content.fitted {\n",
       "  /* fitted */\n",
       "  background-color: var(--sklearn-color-fitted-level-0);\n",
       "}\n",
       "\n",
       "#sk-container-id-2 div.sk-toggleable__content pre {\n",
       "  margin: 0.2em;\n",
       "  border-radius: 0.25em;\n",
       "  color: var(--sklearn-color-text);\n",
       "  /* unfitted */\n",
       "  background-color: var(--sklearn-color-unfitted-level-0);\n",
       "}\n",
       "\n",
       "#sk-container-id-2 div.sk-toggleable__content.fitted pre {\n",
       "  /* unfitted */\n",
       "  background-color: var(--sklearn-color-fitted-level-0);\n",
       "}\n",
       "\n",
       "#sk-container-id-2 input.sk-toggleable__control:checked~div.sk-toggleable__content {\n",
       "  /* Expand drop-down */\n",
       "  max-height: 200px;\n",
       "  max-width: 100%;\n",
       "  overflow: auto;\n",
       "}\n",
       "\n",
       "#sk-container-id-2 input.sk-toggleable__control:checked~label.sk-toggleable__label-arrow:before {\n",
       "  content: \"▾\";\n",
       "}\n",
       "\n",
       "/* Pipeline/ColumnTransformer-specific style */\n",
       "\n",
       "#sk-container-id-2 div.sk-label input.sk-toggleable__control:checked~label.sk-toggleable__label {\n",
       "  color: var(--sklearn-color-text);\n",
       "  background-color: var(--sklearn-color-unfitted-level-2);\n",
       "}\n",
       "\n",
       "#sk-container-id-2 div.sk-label.fitted input.sk-toggleable__control:checked~label.sk-toggleable__label {\n",
       "  background-color: var(--sklearn-color-fitted-level-2);\n",
       "}\n",
       "\n",
       "/* Estimator-specific style */\n",
       "\n",
       "/* Colorize estimator box */\n",
       "#sk-container-id-2 div.sk-estimator input.sk-toggleable__control:checked~label.sk-toggleable__label {\n",
       "  /* unfitted */\n",
       "  background-color: var(--sklearn-color-unfitted-level-2);\n",
       "}\n",
       "\n",
       "#sk-container-id-2 div.sk-estimator.fitted input.sk-toggleable__control:checked~label.sk-toggleable__label {\n",
       "  /* fitted */\n",
       "  background-color: var(--sklearn-color-fitted-level-2);\n",
       "}\n",
       "\n",
       "#sk-container-id-2 div.sk-label label.sk-toggleable__label,\n",
       "#sk-container-id-2 div.sk-label label {\n",
       "  /* The background is the default theme color */\n",
       "  color: var(--sklearn-color-text-on-default-background);\n",
       "}\n",
       "\n",
       "/* On hover, darken the color of the background */\n",
       "#sk-container-id-2 div.sk-label:hover label.sk-toggleable__label {\n",
       "  color: var(--sklearn-color-text);\n",
       "  background-color: var(--sklearn-color-unfitted-level-2);\n",
       "}\n",
       "\n",
       "/* Label box, darken color on hover, fitted */\n",
       "#sk-container-id-2 div.sk-label.fitted:hover label.sk-toggleable__label.fitted {\n",
       "  color: var(--sklearn-color-text);\n",
       "  background-color: var(--sklearn-color-fitted-level-2);\n",
       "}\n",
       "\n",
       "/* Estimator label */\n",
       "\n",
       "#sk-container-id-2 div.sk-label label {\n",
       "  font-family: monospace;\n",
       "  font-weight: bold;\n",
       "  display: inline-block;\n",
       "  line-height: 1.2em;\n",
       "}\n",
       "\n",
       "#sk-container-id-2 div.sk-label-container {\n",
       "  text-align: center;\n",
       "}\n",
       "\n",
       "/* Estimator-specific */\n",
       "#sk-container-id-2 div.sk-estimator {\n",
       "  font-family: monospace;\n",
       "  border: 1px dotted var(--sklearn-color-border-box);\n",
       "  border-radius: 0.25em;\n",
       "  box-sizing: border-box;\n",
       "  margin-bottom: 0.5em;\n",
       "  /* unfitted */\n",
       "  background-color: var(--sklearn-color-unfitted-level-0);\n",
       "}\n",
       "\n",
       "#sk-container-id-2 div.sk-estimator.fitted {\n",
       "  /* fitted */\n",
       "  background-color: var(--sklearn-color-fitted-level-0);\n",
       "}\n",
       "\n",
       "/* on hover */\n",
       "#sk-container-id-2 div.sk-estimator:hover {\n",
       "  /* unfitted */\n",
       "  background-color: var(--sklearn-color-unfitted-level-2);\n",
       "}\n",
       "\n",
       "#sk-container-id-2 div.sk-estimator.fitted:hover {\n",
       "  /* fitted */\n",
       "  background-color: var(--sklearn-color-fitted-level-2);\n",
       "}\n",
       "\n",
       "/* Specification for estimator info (e.g. \"i\" and \"?\") */\n",
       "\n",
       "/* Common style for \"i\" and \"?\" */\n",
       "\n",
       ".sk-estimator-doc-link,\n",
       "a:link.sk-estimator-doc-link,\n",
       "a:visited.sk-estimator-doc-link {\n",
       "  float: right;\n",
       "  font-size: smaller;\n",
       "  line-height: 1em;\n",
       "  font-family: monospace;\n",
       "  background-color: var(--sklearn-color-background);\n",
       "  border-radius: 1em;\n",
       "  height: 1em;\n",
       "  width: 1em;\n",
       "  text-decoration: none !important;\n",
       "  margin-left: 1ex;\n",
       "  /* unfitted */\n",
       "  border: var(--sklearn-color-unfitted-level-1) 1pt solid;\n",
       "  color: var(--sklearn-color-unfitted-level-1);\n",
       "}\n",
       "\n",
       ".sk-estimator-doc-link.fitted,\n",
       "a:link.sk-estimator-doc-link.fitted,\n",
       "a:visited.sk-estimator-doc-link.fitted {\n",
       "  /* fitted */\n",
       "  border: var(--sklearn-color-fitted-level-1) 1pt solid;\n",
       "  color: var(--sklearn-color-fitted-level-1);\n",
       "}\n",
       "\n",
       "/* On hover */\n",
       "div.sk-estimator:hover .sk-estimator-doc-link:hover,\n",
       ".sk-estimator-doc-link:hover,\n",
       "div.sk-label-container:hover .sk-estimator-doc-link:hover,\n",
       ".sk-estimator-doc-link:hover {\n",
       "  /* unfitted */\n",
       "  background-color: var(--sklearn-color-unfitted-level-3);\n",
       "  color: var(--sklearn-color-background);\n",
       "  text-decoration: none;\n",
       "}\n",
       "\n",
       "div.sk-estimator.fitted:hover .sk-estimator-doc-link.fitted:hover,\n",
       ".sk-estimator-doc-link.fitted:hover,\n",
       "div.sk-label-container:hover .sk-estimator-doc-link.fitted:hover,\n",
       ".sk-estimator-doc-link.fitted:hover {\n",
       "  /* fitted */\n",
       "  background-color: var(--sklearn-color-fitted-level-3);\n",
       "  color: var(--sklearn-color-background);\n",
       "  text-decoration: none;\n",
       "}\n",
       "\n",
       "/* Span, style for the box shown on hovering the info icon */\n",
       ".sk-estimator-doc-link span {\n",
       "  display: none;\n",
       "  z-index: 9999;\n",
       "  position: relative;\n",
       "  font-weight: normal;\n",
       "  right: .2ex;\n",
       "  padding: .5ex;\n",
       "  margin: .5ex;\n",
       "  width: min-content;\n",
       "  min-width: 20ex;\n",
       "  max-width: 50ex;\n",
       "  color: var(--sklearn-color-text);\n",
       "  box-shadow: 2pt 2pt 4pt #999;\n",
       "  /* unfitted */\n",
       "  background: var(--sklearn-color-unfitted-level-0);\n",
       "  border: .5pt solid var(--sklearn-color-unfitted-level-3);\n",
       "}\n",
       "\n",
       ".sk-estimator-doc-link.fitted span {\n",
       "  /* fitted */\n",
       "  background: var(--sklearn-color-fitted-level-0);\n",
       "  border: var(--sklearn-color-fitted-level-3);\n",
       "}\n",
       "\n",
       ".sk-estimator-doc-link:hover span {\n",
       "  display: block;\n",
       "}\n",
       "\n",
       "/* \"?\"-specific style due to the `<a>` HTML tag */\n",
       "\n",
       "#sk-container-id-2 a.estimator_doc_link {\n",
       "  float: right;\n",
       "  font-size: 1rem;\n",
       "  line-height: 1em;\n",
       "  font-family: monospace;\n",
       "  background-color: var(--sklearn-color-background);\n",
       "  border-radius: 1rem;\n",
       "  height: 1rem;\n",
       "  width: 1rem;\n",
       "  text-decoration: none;\n",
       "  /* unfitted */\n",
       "  color: var(--sklearn-color-unfitted-level-1);\n",
       "  border: var(--sklearn-color-unfitted-level-1) 1pt solid;\n",
       "}\n",
       "\n",
       "#sk-container-id-2 a.estimator_doc_link.fitted {\n",
       "  /* fitted */\n",
       "  border: var(--sklearn-color-fitted-level-1) 1pt solid;\n",
       "  color: var(--sklearn-color-fitted-level-1);\n",
       "}\n",
       "\n",
       "/* On hover */\n",
       "#sk-container-id-2 a.estimator_doc_link:hover {\n",
       "  /* unfitted */\n",
       "  background-color: var(--sklearn-color-unfitted-level-3);\n",
       "  color: var(--sklearn-color-background);\n",
       "  text-decoration: none;\n",
       "}\n",
       "\n",
       "#sk-container-id-2 a.estimator_doc_link.fitted:hover {\n",
       "  /* fitted */\n",
       "  background-color: var(--sklearn-color-fitted-level-3);\n",
       "}\n",
       "</style><div id=\"sk-container-id-2\" class=\"sk-top-container\"><div class=\"sk-text-repr-fallback\"><pre>LinearRegression()</pre><b>In a Jupyter environment, please rerun this cell to show the HTML representation or trust the notebook. <br />On GitHub, the HTML representation is unable to render, please try loading this page with nbviewer.org.</b></div><div class=\"sk-container\" hidden><div class=\"sk-item\"><div class=\"sk-estimator fitted sk-toggleable\"><input class=\"sk-toggleable__control sk-hidden--visually\" id=\"sk-estimator-id-2\" type=\"checkbox\" checked><label for=\"sk-estimator-id-2\" class=\"sk-toggleable__label fitted sk-toggleable__label-arrow fitted\">&nbsp;&nbsp;LinearRegression<a class=\"sk-estimator-doc-link fitted\" rel=\"noreferrer\" target=\"_blank\" href=\"https://scikit-learn.org/1.4/modules/generated/sklearn.linear_model.LinearRegression.html\">?<span>Documentation for LinearRegression</span></a><span class=\"sk-estimator-doc-link fitted\">i<span>Fitted</span></span></label><div class=\"sk-toggleable__content fitted\"><pre>LinearRegression()</pre></div> </div></div></div></div>"
      ],
      "text/plain": [
       "LinearRegression()"
      ]
     },
     "execution_count": 48,
     "metadata": {},
     "output_type": "execute_result"
    }
   ],
   "source": [
    "lr.fit(x,y)"
   ]
  },
  {
   "cell_type": "code",
   "execution_count": 50,
   "id": "c48bf4ff",
   "metadata": {},
   "outputs": [
    {
     "data": {
      "text/plain": [
       "array([ 39343.,  46205.,  37731.,  43525.,  39891.,  56642.,  60150.,\n",
       "        54445.,  64445.,  57189.,  63218.,  55794.,  56957.,  57081.,\n",
       "        61111.,  67938.,  66029.,  83088.,  81363.,  93940.,  91738.,\n",
       "        98273., 101302., 113812., 109431., 105582., 116969., 112635.,\n",
       "       122391., 121872.])"
      ]
     },
     "execution_count": 50,
     "metadata": {},
     "output_type": "execute_result"
    }
   ],
   "source": [
    "y"
   ]
  },
  {
   "cell_type": "code",
   "execution_count": 49,
   "id": "95ac5a96",
   "metadata": {},
   "outputs": [
    {
     "data": {
      "text/plain": [
       "array([ 36187.15875227,  38077.15121656,  39967.14368085,  44692.12484158,\n",
       "        46582.11730587,  53197.09093089,  54142.08716303,  56032.07962732,\n",
       "        56032.07962732,  60757.06078805,  62647.05325234,  63592.04948449,\n",
       "        63592.04948449,  64537.04571663,  68317.03064522,  72097.0155738 ,\n",
       "        73987.00803809,  75877.00050238,  81546.97789525,  82491.9741274 ,\n",
       "        90051.94398456,  92886.932681  , 100446.90253816, 103281.8912346 ,\n",
       "       108006.87239533, 110841.86109176, 115566.84225249, 116511.83848464,\n",
       "       123126.81210966, 125016.80457395])"
      ]
     },
     "execution_count": 49,
     "metadata": {},
     "output_type": "execute_result"
    }
   ],
   "source": [
    "y_pred = lr.predict(x)\n",
    "y_pred"
   ]
  },
  {
   "cell_type": "code",
   "execution_count": 54,
   "id": "fcab1464",
   "metadata": {},
   "outputs": [
    {
     "data": {
      "text/plain": [
       "array([129741.78573467])"
      ]
     },
     "execution_count": 54,
     "metadata": {},
     "output_type": "execute_result"
    }
   ],
   "source": [
    "lr.predict([[11]])"
   ]
  },
  {
   "cell_type": "code",
   "execution_count": 60,
   "id": "19b9e620",
   "metadata": {},
   "outputs": [],
   "source": [
    "b = lr.intercept_"
   ]
  },
  {
   "cell_type": "code",
   "execution_count": 61,
   "id": "e37add94",
   "metadata": {},
   "outputs": [],
   "source": [
    "m = lr.coef_"
   ]
  },
  {
   "cell_type": "code",
   "execution_count": 62,
   "id": "b44da110",
   "metadata": {},
   "outputs": [
    {
     "data": {
      "text/plain": [
       "array([129741.78573467])"
      ]
     },
     "execution_count": 62,
     "metadata": {},
     "output_type": "execute_result"
    }
   ],
   "source": [
    "y_pred = m * 11 + b\n",
    "y_pred"
   ]
  },
  {
   "cell_type": "code",
   "execution_count": 51,
   "id": "ffa0fb4b",
   "metadata": {},
   "outputs": [
    {
     "data": {
      "text/plain": [
       "array([ 3155.84124773,  8127.84878344, -2236.14368085, -1167.12484158,\n",
       "       -6691.11730587,  3444.90906911,  6007.91283697, -1587.07962732,\n",
       "        8412.92037268, -3568.06078805,   570.94674766, -7798.04948449,\n",
       "       -6635.04948449, -7456.04571663, -7206.03064522, -4159.0155738 ,\n",
       "       -7958.00803809,  7210.99949762,  -183.97789525, 11448.0258726 ,\n",
       "        1686.05601544,  5386.067319  ,   855.09746184, 10530.1087654 ,\n",
       "        1424.12760467, -5259.86109176,  1402.15774751, -3876.83848464,\n",
       "        -735.81210966, -3144.80457395])"
      ]
     },
     "execution_count": 51,
     "metadata": {},
     "output_type": "execute_result"
    }
   ],
   "source": [
    "residuals = y - y_pred\n",
    "residuals"
   ]
  },
  {
   "cell_type": "code",
   "execution_count": null,
   "id": "76590681",
   "metadata": {},
   "outputs": [],
   "source": [
    "x"
   ]
  },
  {
   "cell_type": "code",
   "execution_count": null,
   "id": "943eeaf9",
   "metadata": {},
   "outputs": [],
   "source": [
    "lr.predict([[15]])"
   ]
  },
  {
   "cell_type": "code",
   "execution_count": null,
   "id": "6e5c365a",
   "metadata": {},
   "outputs": [],
   "source": [
    "m = lr.coef_\n",
    "m"
   ]
  },
  {
   "cell_type": "code",
   "execution_count": null,
   "id": "38ec84da",
   "metadata": {},
   "outputs": [],
   "source": [
    "c = lr.intercept_\n",
    "c"
   ]
  },
  {
   "cell_type": "code",
   "execution_count": null,
   "id": "00efe0ba",
   "metadata": {},
   "outputs": [],
   "source": [
    "y_pred1 = m * x[0] + c\n",
    "y_pred1"
   ]
  },
  {
   "cell_type": "code",
   "execution_count": null,
   "id": "0d2e4cf5",
   "metadata": {},
   "outputs": [],
   "source": [
    "y_pred"
   ]
  },
  {
   "cell_type": "code",
   "execution_count": null,
   "id": "b0145a84",
   "metadata": {},
   "outputs": [],
   "source": [
    "y_pred1 = (m*x) +c\n",
    "y_pred1"
   ]
  },
  {
   "cell_type": "code",
   "execution_count": null,
   "id": "2096485b",
   "metadata": {},
   "outputs": [],
   "source": [
    "x"
   ]
  },
  {
   "cell_type": "code",
   "execution_count": null,
   "id": "5f62a2a7",
   "metadata": {},
   "outputs": [],
   "source": []
  },
  {
   "cell_type": "code",
   "execution_count": null,
   "id": "0e91177a",
   "metadata": {},
   "outputs": [],
   "source": [
    "from sklearn.metrics import r2_score\n",
    "r2_score(y,y_pred)\n",
    "#R^2 = 1 - (SSres / SStot)  (sum of residual,total sum of square)\n",
    "\n",
    "# R^2 = 1 - (sum((y_actual - y_pred)^2) / sum((y_actual - mean(y_actual))^2))"
   ]
  },
  {
   "cell_type": "markdown",
   "id": "7aa4f15f",
   "metadata": {},
   "source": [
    "![](https://www.freecodecamp.org/news/content/images/2022/08/image.png)"
   ]
  },
  {
   "cell_type": "markdown",
   "id": "ffdbe55d",
   "metadata": {},
   "source": [
    "Predict canada's per capita income in year 2020.\n",
    "\n",
    "There is an exercise folder here on drive download that and you will find canada_per_capita_income.csv file. \n",
    "\n",
    "Using this build a regression model and predict the per capita income fo canadian citizens in year 2020\n",
    "https://drive.google.com/file/d/1CkuJXXcha8McNnLV0PWWm83vixiLyBj8/view?usp=sharing"
   ]
  },
  {
   "cell_type": "code",
   "execution_count": null,
   "id": "1bc62ead",
   "metadata": {},
   "outputs": [],
   "source": [
    "x = np.array([1,2,3,4,5])\n",
    "y = np.array([10,11,12,13,14])\n",
    "def gradient_descent(x,y):\n",
    "    m_curr = b_curr = 0  # initialize the value, to reach the global minimum\n",
    "    iterations = 100 # i start with 100\n",
    "    n = len(x) #length of the data points\n",
    "    learning_rate = 0.01   # trial and error method if u have to change the nos u want\n",
    "    for i in range(iterations):\n",
    "        y_predicted = m_curr * x + b_curr  # prediction value\n",
    "        cost = (1/n) * sum([val **2 for val in (y-y_predicted)])\n",
    "        md = - (2/n) * sum(x*(y-y_predicted)) # here we find the m derivative\n",
    "        bd = -(2/n) *sum (y-y_predicted)  #here we find the b derivative\n",
    "        m_curr = m_curr - learning_rate * md\n",
    "        b_curr = b_curr - learning_rate * bd\n",
    "        print('m {} ,b {}, cost: {} ,iteration {}'.format(m_curr,b_curr,cost,i))\n",
    "    \n",
    "gradient_descent(x,y)\n"
   ]
  },
  {
   "cell_type": "code",
   "execution_count": null,
   "id": "f3bfc4ed",
   "metadata": {},
   "outputs": [],
   "source": []
  }
 ],
 "metadata": {
  "kernelspec": {
   "display_name": "Python [conda env:base] *",
   "language": "python",
   "name": "conda-base-py"
  },
  "language_info": {
   "codemirror_mode": {
    "name": "ipython",
    "version": 3
   },
   "file_extension": ".py",
   "mimetype": "text/x-python",
   "name": "python",
   "nbconvert_exporter": "python",
   "pygments_lexer": "ipython3",
   "version": "3.13.5"
  }
 },
 "nbformat": 4,
 "nbformat_minor": 5
}
