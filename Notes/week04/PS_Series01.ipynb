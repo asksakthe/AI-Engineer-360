{
 "cells": [
  {
   "cell_type": "code",
   "execution_count": null,
   "id": "bba3ec3e",
   "metadata": {},
   "outputs": [
    {
     "name": "stdout",
     "output_type": "stream",
     "text": [
      "Mon     5\n",
      "Tue     8\n",
      "Wed     3\n",
      "Thu     6\n",
      "Fri    10\n",
      "Sat     2\n",
      "Sun     7\n",
      "dtype: int64\n",
      "maximum defects logged in a single day: 10\n",
      "day with minimum defects Sat\n",
      "defect count of Day5 10\n",
      "defect count on 'Wed'. 3\n",
      "the total defects logged in the week 41\n"
     ]
    }
   ],
   "source": [
    "#Classroom Assignment <3>: Pandas Series – Defect Counts per Day\n",
    "import pandas as pd\n",
    "import numpy as np\n",
    "\n",
    "\n",
    "a = [5, 8, 3, 6, 10, 2, 7]\n",
    "data01 = pd.Series(a, index = ['Mon','Tue','Wed','Thu','Fri','Sat','Sun'])\n",
    "print(data01)\n",
    "print(\"maximum defects logged in a single day:\",data01.max())\n",
    "#mini = data01.min()\n",
    "print(\"day with minimum defects\",data01.idxmin())\n",
    "print(\"defect count of Day5\",data01.iloc[4])\n",
    "print(\"defect count on 'Wed'.\",data01.loc['Wed'])\n",
    "print(\"the total defects logged in the week\",data01.sum())\n",
    "\n"
   ]
  },
  {
   "cell_type": "code",
   "execution_count": null,
   "id": "371eef3b",
   "metadata": {},
   "outputs": [
    {
     "name": "stdout",
     "output_type": "stream",
     "text": [
      "B1    80\n",
      "B2    85\n",
      "B3    78\n",
      "B4    90\n",
      "B5    88\n",
      "dtype: int64\n",
      "\n",
      "AVG pass:  84.2\n",
      "\n",
      "Last build:  88\n",
      "\n",
      "highest:  90\n",
      "\n",
      "SPecify S3:  78\n",
      "[-4, 0, -6, 5, 3]\n"
     ]
    }
   ],
   "source": [
    "#Classroom Assignment <4>: Pandas Series – Test Pass Rate \n",
    "\n",
    "data02 = pd.Series([80, 85, 78, 90, 88], index = ['B1','B2','B3','B4','B5'])\n",
    "print( data02)\n",
    "print(\"\\nAVG pass: \", data02.mean())\n",
    "print(\"\\nLast build: \",data02.iloc[-1])\n",
    "print(\"\\nhighest: \",data02.max())\n",
    "print(\"\\nSPecify S3: \",data02.loc['B3'])\n",
    "mean_da02 = data02.mean()\n",
    "print([int(da02-mean_da02) for da02 in data02])"
   ]
  },
  {
   "cell_type": "code",
   "execution_count": null,
   "id": "507cddef",
   "metadata": {},
   "outputs": [
    {
     "name": "stdout",
     "output_type": "stream",
     "text": [
      "TC1    12\n",
      "TC2    15\n",
      "TC3    20\n",
      "TC4    18\n",
      "TC5    25\n",
      "TC6    30\n",
      "TC7    22\n",
      "dtype: int64\n",
      "Displays the first 3 test times Mon    5\n",
      "Tue    8\n",
      "Wed    3\n",
      "dtype: int64\n",
      "mean execution time 20.285714285714285\n",
      "2nd test time 15\n",
      "execution time of TC3 20\n"
     ]
    }
   ],
   "source": [
    "#Classroom Assignment <2>: Pandas Series – Test Execution Times\n",
    "data04 = pd.Series([12, 15, 20, 18, 25, 30, 22], index=['TC1','TC2','TC3','TC4','TC5','TC6','TC7'])\n",
    "\n",
    "print(data04)\n",
    "print(\"Displays the first 3 test times\",data01.head(3))\n",
    "print(\"mean execution time\",data04.mean())\n",
    "print(\"2nd test time\",data04.iloc[1])\n",
    "print(\"execution time of TC3\",data04.loc['TC3'])"
   ]
  },
  {
   "cell_type": "code",
   "execution_count": null,
   "id": "e916dc45",
   "metadata": {},
   "outputs": [
    {
     "name": "stdout",
     "output_type": "stream",
     "text": [
      "1    15\n",
      "2    20\n",
      "3    18\n",
      "dtype: int64\n",
      "0    10\n",
      "1    20\n",
      "2    23\n",
      "3    45\n",
      "4    50\n",
      "dtype: int64\n",
      "200\n"
     ]
    }
   ],
   "source": [
    "#classRoom Example\n",
    "import pandas as pd\n",
    "import numpy as np\n",
    "dat01 = [12, 15, 20, 18, 25, 30, 22]\n",
    "data01 = pd.Series(dat01)\n",
    "print(data01[-6:-3])\n",
    "\n",
    "dat = np.array([10,20,23,45,50])\n",
    "data = pd.Series(dat)\n",
    "print(data)\n",
    "\n",
    "dic = {\"Alex\": 500, 'Steve': 200, 'Bob': 300}\n",
    "data02 = pd.Series(dic)\n",
    "print(data02['Steve'])\n",
    "\n",
    "#"
   ]
  }
 ],
 "metadata": {
  "kernelspec": {
   "display_name": "Python 3",
   "language": "python",
   "name": "python3"
  },
  "language_info": {
   "codemirror_mode": {
    "name": "ipython",
    "version": 3
   },
   "file_extension": ".py",
   "mimetype": "text/x-python",
   "name": "python",
   "nbconvert_exporter": "python",
   "pygments_lexer": "ipython3",
   "version": "3.12.8"
  }
 },
 "nbformat": 4,
 "nbformat_minor": 5
}
