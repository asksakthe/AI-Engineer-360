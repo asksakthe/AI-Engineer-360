{
 "cells": [
  {
   "cell_type": "code",
   "execution_count": 2,
   "id": "3d3f52b1",
   "metadata": {},
   "outputs": [
    {
     "name": "stdout",
     "output_type": "stream",
     "text": [
      "  TestCase  Status  Duration\n",
      "0      TC1  Passed        12\n",
      "1      TC2  Failed        15\n",
      "2      TC3  Passed        20\n",
      "3      TC4  Failed        18\n",
      "4      TC5  Passed        25\n"
     ]
    }
   ],
   "source": [
    "import pandas as pd\n",
    "\n",
    "data01 = {\"TestCase\":[\"TC1\",\"TC2\",\"TC3\",\"TC4\",\"TC5\"],\"Status\":[\"Passed\",\"Failed\",\"Passed\",\"Failed\",\"Passed\"],\"Duration\":[12,15,20,18,25]}\n",
    "\n",
    "df01 = pd.DataFrame(data01)\n",
    "print(df01)"
   ]
  },
  {
   "cell_type": "code",
   "execution_count": 4,
   "id": "bffdd9b9",
   "metadata": {},
   "outputs": [
    {
     "data": {
      "text/plain": [
       "0    Passed\n",
       "1    Failed\n",
       "2    Passed\n",
       "3    Failed\n",
       "4    Passed\n",
       "Name: Status, dtype: object"
      ]
     },
     "execution_count": 4,
     "metadata": {},
     "output_type": "execute_result"
    }
   ],
   "source": [
    "df01['Status']"
   ]
  },
  {
   "cell_type": "code",
   "execution_count": 11,
   "id": "38b9405a",
   "metadata": {},
   "outputs": [],
   "source": [
    "df02 = df01[df01[\"Status\"] == \"Failed\"]"
   ]
  },
  {
   "cell_type": "code",
   "execution_count": 12,
   "id": "b49d2339",
   "metadata": {},
   "outputs": [],
   "source": [
    "data_csv = df02.to_csv(\"test_results.csv\", index=False)"
   ]
  },
  {
   "cell_type": "code",
   "execution_count": 13,
   "id": "531d1240",
   "metadata": {},
   "outputs": [
    {
     "name": "stdout",
     "output_type": "stream",
     "text": [
      "  TestCase  Status  Duration\n",
      "0      TC2  Failed        15\n",
      "1      TC4  Failed        18\n"
     ]
    }
   ],
   "source": [
    "df_new = pd.read_csv(\"test_results.csv\")\n",
    "print(df_new)"
   ]
  },
  {
   "cell_type": "code",
   "execution_count": null,
   "id": "264c5df9",
   "metadata": {},
   "outputs": [],
   "source": []
  }
 ],
 "metadata": {
  "kernelspec": {
   "display_name": "base",
   "language": "python",
   "name": "python3"
  },
  "language_info": {
   "codemirror_mode": {
    "name": "ipython",
    "version": 3
   },
   "file_extension": ".py",
   "mimetype": "text/x-python",
   "name": "python",
   "nbconvert_exporter": "python",
   "pygments_lexer": "ipython3",
   "version": "3.13.5"
  }
 },
 "nbformat": 4,
 "nbformat_minor": 5
}
